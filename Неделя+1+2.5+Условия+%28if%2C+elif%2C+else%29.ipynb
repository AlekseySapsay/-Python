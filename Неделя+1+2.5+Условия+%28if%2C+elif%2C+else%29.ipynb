{
 "cells": [
  {
   "cell_type": "markdown",
   "metadata": {},
   "source": [
    "Римские цифры\n",
    "Считайте число (см таблицу) в арабской записи и выведите на печать, соответствующую ему римскую цифру:\n",
    "\n",
    "﻿1 - I\n",
    "5 - V\n",
    "10 - X\n",
    "50 - L\n",
    "100 - C\n",
    "500 - D\n",
    "1000 - M\n",
    "\n",
    "Sample Input 1:\n",
    "\n",
    "1\n",
    "Sample Output 1:\n",
    "\n",
    "I\n",
    "Sample Input 2:\n",
    "\n",
    "5\n",
    "Sample Output 2:\n",
    "\n",
    "V"
   ]
  },
  {
   "cell_type": "code",
   "execution_count": null,
   "metadata": {
    "collapsed": true
   },
   "outputs": [],
   "source": [
    "num=int(input())\n",
    "\n",
    "if num==1:\n",
    "    print(\"I\")\n",
    "elif num==5:\n",
    "    print(\"V\")\n",
    "elif num==10:\n",
    "    print(\"X\")\n",
    "elif num==50:\n",
    "    print(\"L\")\n",
    "elif num==100:\n",
    "    print(\"C\")\n",
    "elif num==500:\n",
    "    print(\"D\")\n",
    "elif num==1000:\n",
    "    print(\"M\")"
   ]
  },
  {
   "cell_type": "markdown",
   "metadata": {},
   "source": [
    "Считайте строку.\n",
    "\n",
    "Если она содержит число 0, выведите на печать фразу \"Division by zero!\"\n",
    "\n",
    "Если она содержит число, отличное от 0, то считайте ещё одну строку, содержащую число, и напечатайте результат деления 2-ого числа на 1-е. Результат деления округлите до 1 знака после запятой (используйте round).\n",
    "\n",
    "Sample Input 1:\n",
    "\n",
    "0\n",
    "Sample Output 1:\n",
    "\n",
    "Division by zero!\n",
    "Sample Input 2:\n",
    "\n",
    "3\n",
    "4\n",
    "Sample Output 2:\n",
    "\n",
    "1.3"
   ]
  },
  {
   "cell_type": "code",
   "execution_count": null,
   "metadata": {
    "collapsed": true
   },
   "outputs": [],
   "source": [
    "num1=int(input())\n",
    "if num1==0:\n",
    "    print(\"Division by zero!\")\n",
    "else:\n",
    "    num2=int(input())\n",
    "    num3=round(num2/num1,1)\n",
    "    print(num3)\n"
   ]
  },
  {
   "cell_type": "markdown",
   "metadata": {},
   "source": [
    "Пора объединить полученные знания.\n",
    "\n",
    "Считайте 1 строку. Она содержит строку с названием типа последующих данных. Возможны 3 типа:\n",
    "\n",
    "int\n",
    "str\n",
    "list\n",
    "В случае получения другого типа выведите на печать строку \"Unknown type\".\n",
    "\n",
    "\n",
    "Если получен тип 'int':\n",
    "\n",
    "Считайте ещё 2 строки. Каждая будет содержать целое число.\n",
    "\n",
    "Если оба числа равны 0, выведите на печать строку \"Empty Ints\"\n",
    "Иначе выведите на печать сумму этих чисел\n",
    "\n",
    "\n",
    "Если получен тип 'str':\n",
    "\n",
    "Считайте ещё 1 строку.\n",
    "\n",
    "Если строка пустая, выведите на печать строку \"Empty String\"\n",
    "Иначе напечатайте эту строку\n",
    "\n",
    "\n",
    "Если получен тип 'list':\n",
    "\n",
    "Считайте 1 строку и разрежьте её на элементы с помощью split().\n",
    "\n",
    "Если получившийся список пустой, выведите на печать строку \"Empty List\"\n",
    "Иначе выведите на печать последний элемент списка. Примечание, используйте отрицательный индекс.\n",
    "﻿\n",
    "\n",
    "Используйте приведение типов для определения пустых списков и строк, а так же чисел, равных 0."
   ]
  },
  {
   "cell_type": "code",
   "execution_count": null,
   "metadata": {
    "collapsed": true
   },
   "outputs": [],
   "source": [
    "# put your python code here\n",
    "S=str(input())\n",
    "\n",
    "if S==\"int\":\n",
    "    num1=int(input())\n",
    "    num2=int(input())\n",
    "    if num1==0 and num2==0:\n",
    "        print(\"Empty Ints\")\n",
    "    else:\n",
    "        print(num1+num2)\n",
    "        \n",
    "elif S==\"str\":\n",
    "    String=str(input())\n",
    "    if String==\"\":\n",
    "        print(\"Empty String\")\n",
    "    else:\n",
    "        print(String)\n",
    "elif S==\"list\":\n",
    "    String=input().split()\n",
    "    if len(String)==0:\n",
    "        print(\"Empty List\")\n",
    "    else:\n",
    "        print(String[-1])\n",
    "else:\n",
    "    print(\"Unknown type\")\n"
   ]
  }
 ],
 "metadata": {
  "kernelspec": {
   "display_name": "Python 3",
   "language": "python",
   "name": "python3"
  },
  "language_info": {
   "codemirror_mode": {
    "name": "ipython",
    "version": 3
   },
   "file_extension": ".py",
   "mimetype": "text/x-python",
   "name": "python",
   "nbconvert_exporter": "python",
   "pygments_lexer": "ipython3",
   "version": "3.6.6"
  }
 },
 "nbformat": 4,
 "nbformat_minor": 2
}
