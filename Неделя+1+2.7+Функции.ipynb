{
 "cells": [
  {
   "cell_type": "markdown",
   "metadata": {},
   "source": [
    "Напишите функцию sum2(a,b), которая возвращает сумму 2 чисел.\n",
    "\n",
    "Примечание. В этой задаче не нужно ничего считывать и ничего выводить на печать. Только реализовать функцию."
   ]
  },
  {
   "cell_type": "code",
   "execution_count": null,
   "metadata": {
    "collapsed": true
   },
   "outputs": [],
   "source": [
    "def sum2(a,b):\n",
    "    return (a+b)\n"
   ]
  },
  {
   "cell_type": "markdown",
   "metadata": {},
   "source": [
    "Напишите функцию Hello, которая принимает 1 необязательный параметр:\n",
    "\n",
    "Если параметр не задан, то функция выводит на печать сообщение \"Hello, %UserName%!\"\n",
    "Если параметр задан, то вместо %UserName% в приветствии выводится переданное значение\n",
    "\n",
    "\n",
    "Примечание. В этой задаче не нужно вызывать функцию, ничего считывать и ничего выводить на печать. Только реализовать функцию, которая умеет печатать. \n",
    "\n",
    "Sample Input:\n",
    "\n",
    "\n",
    "Sample Output:\n",
    "\n",
    "Hello, %UserName%!\n",
    "Hello, Aleksey!"
   ]
  },
  {
   "cell_type": "code",
   "execution_count": null,
   "metadata": {
    "collapsed": true
   },
   "outputs": [],
   "source": [
    "def Hello(name='%UserName%'):\n",
    "    text = 'Hello, {}!'.format(name)\n",
    "    print(text)"
   ]
  },
  {
   "cell_type": "code",
   "execution_count": null,
   "metadata": {
    "collapsed": true
   },
   "outputs": [],
   "source": [
    "#factorial\n",
    "def factorial (n):\n",
    "    if n == 0:\n",
    "        return 1\n",
    "    else:\n",
    "        return n * factorial(n - 1)"
   ]
  },
  {
   "cell_type": "markdown",
   "metadata": {},
   "source": [
    "Напишите функцию, для нахождения двойного факториала числа dfactorial(n).\n",
    "\n",
    "Двойной факториал числа n обозначается n‼ и определяется как произведение всех натуральных чисел в отрезке [1,n], имеющих ту же чётность, что и n.\n",
    "\n",
    "Для чётного n:     n!!=2⋅4⋅6⋅…⋅n \n",
    "Для нечётного n: n!!=1⋅3⋅5⋅…⋅n\n"
   ]
  },
  {
   "cell_type": "code",
   "execution_count": null,
   "metadata": {
    "collapsed": true
   },
   "outputs": [],
   "source": [
    "def dfactorial(n):\n",
    "    if n == 0 or n==1:\n",
    "        return 1\n",
    "    \n",
    "    res1=1\n",
    "    \n",
    "    if n%2==0:\n",
    "        i=2\n",
    "        while i<=n:\n",
    "            res1*=i\n",
    "            i+=2\n",
    "        return res1\n",
    "    \n",
    "    else:\n",
    "        i=1\n",
    "        while i<=n:\n",
    "            res1*=i\n",
    "            i+=2\n",
    "        return res1"
   ]
  },
  {
   "cell_type": "code",
   "execution_count": null,
   "metadata": {
    "collapsed": true
   },
   "outputs": [],
   "source": [
    "Напишите функцию для нахождения кратного факториала числа Kfactorial."
   ]
  },
  {
   "cell_type": "code",
   "execution_count": null,
   "metadata": {
    "collapsed": true
   },
   "outputs": [],
   "source": []
  },
  {
   "cell_type": "markdown",
   "metadata": {
    "collapsed": true
   },
   "source": [
    "Напишите функцию convert(L), принимающую на вход список, состоящий из чисел и строк вида:\n",
    "\n",
    "[1, 2, '3', '4', '5', 6]\n",
    "и возвращающую список целых чисел (в том же порядке):\n",
    "\n",
    "[1, 2, 3, 4, 5, 6]\n",
    "Примечание. В этой задаче не нужно ничего считывать и ничего выводить на печать. Только реализовать функцию."
   ]
  },
  {
   "cell_type": "code",
   "execution_count": null,
   "metadata": {
    "collapsed": true
   },
   "outputs": [],
   "source": [
    "def convert(L):\n",
    "    for i in range(len(L)):\n",
    "        if type(L[i])==str:\n",
    "            L[i]=int(L[i])\n",
    "    return L"
   ]
  },
  {
   "cell_type": "markdown",
   "metadata": {
    "collapsed": true
   },
   "source": [
    "Напишите функцию перевода числа из десятичной системы счисления в систему с основанием n\n",
    "\n",
    "Функция translate должна принимать 2 параметра:\n",
    "\n",
    "обязательный (исходное целое число в десятичной системе счисления)\n",
    "необязательный, по-умолчанию 2 (основание новой системы счисления, в которую переводится число)\n",
    "Примечание 1. Все новые системы счисления имеют основание меньше 10\n",
    "\n",
    "Примечание 2. В этой задаче не нужно ничего считывать и ничего выводить на печать. Только реализовать функцию. \n",
    "\n",
    "\n",
    "\n",
    "\n",
    "\n",
    "Для перевода из привычной нам десятичной системы исчисления в систему по основанию n, необходимо:\n",
    "\n",
    "разделить исходное число на n\n",
    "записать остаток от деления (шаг 1)\n",
    "для результата деления (шаг 1) повторить операцию с шага 1\n",
    "если результат деления равен 0, прекратить операцию\n",
    "Составить число в новой системе счисления из остатков (от последнего вычисленного к первому)\n",
    "На примере перевода из десятичной системы в двоичную:\n",
    "\n",
    "Допустим, нам нужно перевести число 19 в двоичное. Вы можете воспользоваться следующей процедурой :\n",
    "\n",
    "19 /2 = 9 с остатком 1\n",
    "9 /2 = 4 c остатком 1\n",
    "4 /2 = 2 без остатка 0\n",
    "2 /2 = 1 без остатка 0\n",
    "1 /2 = 0 с остатком 1\n",
    "\n",
    "Итак, мы делим каждое частное на 2 и записываем остаток в конец двоичной записи. Продолжаем деление до тех пор, пока в частном не будет 0. Результат записываем справа налево. То есть нижняя цифра (1) будет самой левой и т.д. В результате получаем число 19 в двоичной записи: 10011."
   ]
  },
  {
   "cell_type": "code",
   "execution_count": null,
   "metadata": {
    "collapsed": true
   },
   "outputs": [],
   "source": []
  },
  {
   "cell_type": "code",
   "execution_count": null,
   "metadata": {
    "collapsed": true
   },
   "outputs": [],
   "source": []
  },
  {
   "cell_type": "markdown",
   "metadata": {},
   "source": [
    "Напишите 2 функции:\n",
    "для нахождения факториала числа factorial(n) - n!=1⋅2⋅3⋅…⋅n\n",
    "для нахождения суперфакториала числа sf(n) - sf(4)=1!⋅2!⋅3!⋅…⋅n!\n",
    "Используйте функцию факториала для вычисления суперфакториала, чтобы сократить объём кода.\n",
    "\n",
    "Примечание. В этой задаче не нужно ничего считывать и ничего выводить на печать. Только реализовать функцию. "
   ]
  },
  {
   "cell_type": "code",
   "execution_count": null,
   "metadata": {
    "collapsed": true
   },
   "outputs": [],
   "source": []
  },
  {
   "cell_type": "markdown",
   "metadata": {},
   "source": [
    "Напишите функцию maxId(L), принимающую на вход список чисел и строк вида:\n",
    "\n",
    "[1, 2, '42', '3', '4', '5', 6, 13]\n",
    "без повторений, и находящую индекс максимального целого числа в списке.\n",
    "\n",
    "Используйте ранее написанную функцию convert(L).\n",
    "\n",
    "\n",
    "\n",
    "Примечание. В этой задаче не нужно ничего считывать и ничего выводить на печать. Только реализовать функцию."
   ]
  },
  {
   "cell_type": "code",
   "execution_count": null,
   "metadata": {
    "collapsed": true
   },
   "outputs": [],
   "source": []
  },
  {
   "cell_type": "code",
   "execution_count": null,
   "metadata": {
    "collapsed": true
   },
   "outputs": [],
   "source": [
    "def convert(L):\n",
    "    for i in range(len(L)):\n",
    "        if type(L[i])==str:\n",
    "            L[i]=int(L[i])\n",
    "    return L\n",
    "    \n",
    "def maxId(L):\n",
    "    max=0\n",
    "    for i in range(len(L)):        \n",
    "        if max<int(L[i]):\n",
    "            max=L[i]\n",
    "            index=i\n",
    "    return index\n",
    "\n",
    "#L=[1, 2, '3', '4', '5', 6]\n",
    "convert(L)\n",
    "maxId(L)"
   ]
  }
 ],
 "metadata": {
  "kernelspec": {
   "display_name": "Python 3",
   "language": "python",
   "name": "python3"
  },
  "language_info": {
   "codemirror_mode": {
    "name": "ipython",
    "version": 3
   },
   "file_extension": ".py",
   "mimetype": "text/x-python",
   "name": "python",
   "nbconvert_exporter": "python",
   "pygments_lexer": "ipython3",
   "version": "3.6.6"
  }
 },
 "nbformat": 4,
 "nbformat_minor": 2
}
