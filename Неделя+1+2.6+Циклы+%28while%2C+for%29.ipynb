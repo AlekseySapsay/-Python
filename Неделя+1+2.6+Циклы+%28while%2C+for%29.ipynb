{
 "cells": [
  {
   "cell_type": "markdown",
   "metadata": {},
   "source": [
    "Считайте натуральное число n.\n",
    "\n",
    "Выведите на печать все числа от 0 до n, включительно, каждое с новой строки\n",
    "\n",
    "Sample Input:\n",
    "\n",
    "3\n",
    "Sample Output:\n",
    "\n",
    "0\n",
    "1\n",
    "2\n",
    "3"
   ]
  },
  {
   "cell_type": "code",
   "execution_count": null,
   "metadata": {
    "collapsed": true
   },
   "outputs": [],
   "source": [
    "n=int(input())\n",
    "i=0\n",
    "while i<=n:\n",
    "    print(i)\n",
    "    i+=1"
   ]
  },
  {
   "cell_type": "code",
   "execution_count": 10,
   "metadata": {},
   "outputs": [
    {
     "name": "stdout",
     "output_type": "stream",
     "text": [
      "time (while loop 10**9): 861 sec \n",
      "\n",
      "time (for loop 10**9): 189 sec \n",
      "\n"
     ]
    }
   ],
   "source": [
    "# ради любопытстка проверка скорости работы циклов\n",
    "import time\n",
    "x = 9\n",
    "\n",
    "#print(help(time))\n",
    "\n",
    "t0 = time.time()\n",
    "a = 0\n",
    "while a < 10**x:\n",
    "    a +=1 \n",
    "print(f'time (while loop 10**{x}): {int(time.time() - t0)} sec', '\\n')\n",
    "\n",
    "t0 = time.time()\n",
    "a = 0\n",
    "for i in range(10**x):\n",
    "    a += 1\n",
    "print(f'time (for loop 10**{x}): {int(time.time() - t0)} sec', '\\n')\n"
   ]
  },
  {
   "cell_type": "markdown",
   "metadata": {},
   "source": [
    "Считайте натуральное число n.\n",
    "\n",
    "Выведите на печать все квадраты чётных чисел от 0 до n-1 (включительно), каждый с новой строки.\n",
    "\n",
    "Sample Input:\n",
    "\n",
    "7\n",
    "Sample Output:\n",
    "\n",
    "0\n",
    "4\n",
    "16\n",
    "36"
   ]
  },
  {
   "cell_type": "code",
   "execution_count": null,
   "metadata": {
    "collapsed": true
   },
   "outputs": [],
   "source": [
    "n=int(input())\n",
    "\n",
    "for i in range(0,n,2):\n",
    "    num=i**2\n",
    "    print(num)\n",
    "    \n",
    "    \n",
    "\"\"\"\n",
    "n=int(input())\n",
    "\n",
    "i=0\n",
    "while i<n:\n",
    "    num=i**2\n",
    "    print(num)\n",
    "    i+=2\n",
    "\"\"\""
   ]
  },
  {
   "cell_type": "markdown",
   "metadata": {},
   "source": [
    "Считывайте целые числа из потока ввода по одному до тех пор, пока не встретите строку \"The End\".\n",
    "\n",
    "Выведите на печать сумму считанных чисел.\n",
    "\n",
    "Sample Input 1:\n",
    "\n",
    "3\n",
    "5\n",
    "The End\n",
    "Sample Output 1:\n",
    "\n",
    "8\n",
    "Sample Input 2:\n",
    "\n",
    "5\n",
    "42\n",
    "6\n",
    "-4\n",
    "The End\n",
    "9999\n",
    "Sample Output 2:\n",
    "\n",
    "49"
   ]
  },
  {
   "cell_type": "code",
   "execution_count": null,
   "metadata": {
    "collapsed": true
   },
   "outputs": [],
   "source": [
    "n=0\n",
    "summ=0\n",
    "while n<1000:\n",
    "    num=(input())\n",
    "    if num==\"The End\":\n",
    "        break\n",
    "    else:\n",
    "        summ+=int(num)\n",
    "    n+=1\n",
    "print(summ)\n"
   ]
  },
  {
   "cell_type": "markdown",
   "metadata": {},
   "source": [
    "На вход подаётся строка, некоторые слова в которой \"испорчены\".\n",
    "\n",
    "Признак \"испорченного\" слова - 1я буква в нём заменена на *.\n",
    "\n",
    "Выведете на печать только \"не испорченные\" слова, каждое с новой строки\n",
    "\n",
    "Sample Input:\n",
    "\n",
    "exaggeration *romotion run into admit exactly *idelity *erspective treat check certain\n",
    "Sample Output:\n",
    "\n",
    "exaggeration\n",
    "run\n",
    "into\n",
    "admit\n",
    "exactly\n",
    "treat\n",
    "check\n",
    "certain"
   ]
  },
  {
   "cell_type": "code",
   "execution_count": null,
   "metadata": {
    "collapsed": true
   },
   "outputs": [],
   "source": [
    "s=input().split()\n",
    "\n",
    "for element in s:\n",
    "    if element[0]==\"*\":\n",
    "        continue\n",
    "    else:\n",
    "        print(element)"
   ]
  },
  {
   "cell_type": "markdown",
   "metadata": {},
   "source": [
    "Считайте натуральное число n\n",
    "Найдите самый маленький натуральный делитель числа n, отличный от 1 (2 <= n <= 30000).\n",
    "Sample Input:\n",
    "\n",
    "2589\n",
    "Sample Output:\n",
    "\n",
    "3"
   ]
  },
  {
   "cell_type": "code",
   "execution_count": null,
   "metadata": {
    "collapsed": true
   },
   "outputs": [],
   "source": [
    "n=int(input())\n",
    "\n",
    "for i in range(2,n):\n",
    "    if n%i==0:\n",
    "        break\n",
    "print(i)"
   ]
  },
  {
   "cell_type": "markdown",
   "metadata": {},
   "source": [
    "Считайте целое число n\n",
    "Напечатайте кубы всех натуральных чисел, меньших |n|, каждое с новой строки.\n",
    "Sample Input 1:\n",
    "\n",
    "4\n",
    "Sample Output 1:\n",
    "\n",
    "1\n",
    "8\n",
    "27\n",
    "Sample Input 2:\n",
    "\n",
    "-5\n",
    "Sample Output 2:\n",
    "\n",
    "1\n",
    "8\n",
    "27\n",
    "64"
   ]
  },
  {
   "cell_type": "code",
   "execution_count": null,
   "metadata": {
    "collapsed": true
   },
   "outputs": [],
   "source": [
    "n=int(input())\n",
    "res=0\n",
    "for i in range(1,abs(n)):\n",
    "    if i<abs(n):\n",
    "        res=i**3\n",
    "        print(res)\n",
    "    else:\n",
    "        break"
   ]
  },
  {
   "cell_type": "code",
   "execution_count": null,
   "metadata": {
    "collapsed": true
   },
   "outputs": [],
   "source": []
  },
  {
   "cell_type": "code",
   "execution_count": null,
   "metadata": {
    "collapsed": true
   },
   "outputs": [],
   "source": []
  },
  {
   "cell_type": "code",
   "execution_count": null,
   "metadata": {
    "collapsed": true
   },
   "outputs": [],
   "source": []
  },
  {
   "cell_type": "code",
   "execution_count": null,
   "metadata": {
    "collapsed": true
   },
   "outputs": [],
   "source": []
  }
 ],
 "metadata": {
  "kernelspec": {
   "display_name": "Python 3",
   "language": "python",
   "name": "python3"
  },
  "language_info": {
   "codemirror_mode": {
    "name": "ipython",
    "version": 3
   },
   "file_extension": ".py",
   "mimetype": "text/x-python",
   "name": "python",
   "nbconvert_exporter": "python",
   "pygments_lexer": "ipython3",
   "version": "3.6.6"
  }
 },
 "nbformat": 4,
 "nbformat_minor": 2
}
