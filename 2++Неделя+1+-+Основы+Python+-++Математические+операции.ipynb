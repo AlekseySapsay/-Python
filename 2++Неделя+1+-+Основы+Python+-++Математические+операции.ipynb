{
 "cells": [
  {
   "cell_type": "markdown",
   "metadata": {},
   "source": [
    "2.2 Математические операции\n",
    "Площадь ромба\n",
    "\n",
    "\n",
    "Даны длины 2 диагоналей ромба (каждая с новой строки).\n",
    "Значения могут быть дробными.\n",
    "\n",
    "Найдите площадь ромба S. В качестве ответа запишите (каждое с новой строки) следующие значения:\n",
    "S, приведённое к целочисленному типу\n",
    "S, округлённое до 1 знака после запятой с помощью функции  round()\n",
    "S, точное значение без округления\n",
    "Площадь ромба можно найти на wiki."
   ]
  },
  {
   "cell_type": "code",
   "execution_count": null,
   "metadata": {
    "collapsed": true
   },
   "outputs": [],
   "source": [
    "# put your python code here\n",
    "a=float(input())\n",
    "b=float(input())\n",
    "\n",
    "c=(a*b)*0.5\n",
    "\n",
    "print(int(c))\n",
    "print(round(c,1))\n",
    "print(c)"
   ]
  },
  {
   "cell_type": "markdown",
   "metadata": {},
   "source": [
    "Площадь шестиугольника и 5 треугольников\n",
    "Нарисован правильный шестиугольник со стороной a.\n",
    "\n",
    "К 5 сторонам этого шестиугольника снаружи дорисовали по правильному треугольнику.\n",
    "\n",
    "Image: https://ucarecdn.com/3541f2c3-004d-4187-8027-4860d5bf5b2d/Найдите площадь получившейся фигуры.\n",
    "\n",
    "\n",
    "\n",
    "На вход подаётся 1 строка - длина стороны правильного шестиугольника.\n",
    "\n",
    "Ответ округлите до целых."
   ]
  },
  {
   "cell_type": "code",
   "execution_count": null,
   "metadata": {
    "collapsed": true
   },
   "outputs": [],
   "source": [
    "a=int(input())\n",
    "\n",
    "p=1.5*a\n",
    "S=(p*(p-a)*(p-a)*(p-a))**0.5\n",
    "result=round(11*S)\n",
    "\n",
    "print(int(result))"
   ]
  },
  {
   "cell_type": "markdown",
   "metadata": {
    "collapsed": true
   },
   "source": [
    "9 друзей шестиугольника\n",
    "На плоскости нарисован правильный шестиугольник с длиной стороны a.\n",
    "\n",
    "У 3 сторон шестиугольника нарисовали по квадрату с длиной стороны, равной стороне шестиугольника.\n",
    "\n",
    "Оставшиеся 3 стороны разделили пополам, после чего нарисовали по равностороннему треугольнику, касающемуся каждого из получившихся половинных отрезков.\n",
    "\n",
    "Image: https://ucarecdn.com/6244aaf8-2910-4445-b8ab-ef734eafdb52/Найдите площадь получившейся фигуры.\n",
    "\n",
    "\n",
    "\n",
    "На вход подаётся 1 строка - длина стороны шестиугольника.\n",
    "\n",
    "Ответ округлите до целых."
   ]
  },
  {
   "cell_type": "code",
   "execution_count": null,
   "metadata": {
    "collapsed": true
   },
   "outputs": [],
   "source": [
    "a=int(input())\n",
    "S_Sqvares=(a**2)*3\n",
    "p=1.5*a\n",
    "S_trianlge=0.5*((p*(p-a)*(p-a)*(p-a))**0.5)\n",
    "S_Triangles=3*S_trianlge\n",
    "S_6grane=6*((p*(p-a)*(p-a)*(p-a))**0.5)\n",
    "result=int(round(S_Triangles + S_Sqvares + S_6grane))\n",
    "\n",
    "print(result)"
   ]
  },
  {
   "cell_type": "markdown",
   "metadata": {
    "collapsed": true
   },
   "source": [
    "Додекаэдр\n",
    "\n",
    "\n",
    "На вход программа получает 1 строку - длину ребра додекаэдра.\n",
    "Используя формулы из Wiki найдите площадь поверхности и объём фигуры.\n",
    "Ответ округлите до 2 знака после запятой."
   ]
  },
  {
   "cell_type": "code",
   "execution_count": null,
   "metadata": {
    "collapsed": true
   },
   "outputs": [],
   "source": [
    "a=float(input())\n",
    "S_square=round(((3*a**2)*(5*(5+2*5**0.5))**0.5),2)\n",
    "S_volume=round((((a**3)/4)*(15+(7*5**0.5))),2)\n",
    "\n",
    "print(S_square)\n",
    "print(S_volume)"
   ]
  },
  {
   "cell_type": "markdown",
   "metadata": {},
   "source": [
    "Задача фон Неймана о мухе и поездах\n",
    "Два поезда находятся на расстоянии L км друг от друга и приближаются по одной колее, развивают скорости v1 км/ч и v2 км/ч, соответственно. С ветрового стекла одного локомотива в начальный момент движения взлетает муха и принимается летать со скоростью vm км/ч вперед и назад между поездами, пока те, столкнувшись, не раздавят ее.\n",
    "\n",
    "Какое расстояние успевает пролететь муха до столкновения поездов? \n",
    "\n",
    "На вход подаётся 4 натуральных числа:\n",
    "\n",
    "L \n",
    "v1 \n",
    "v2 \n",
    "vm \n",
    "Ответом будет 1 натуральное число\n",
    "\n",
    "\n",
    "\n",
    "Примечание. Это простая математическая задача, здесь не нужны циклы или ряды. Условие задачи гарантирует, что vm>v1,vm>v2"
   ]
  },
  {
   "cell_type": "code",
   "execution_count": null,
   "metadata": {
    "collapsed": true
   },
   "outputs": [],
   "source": [
    "\n",
    "L=int(input())\n",
    "v1=int(input())\n",
    "v2=int(input())\n",
    "vm=int(input())\n",
    "\n",
    "t=L/(v1+v2)\n",
    "Lm=int(vm*t)\n",
    "\n",
    "print(Lm)\n"
   ]
  }
 ],
 "metadata": {
  "kernelspec": {
   "display_name": "Python 3",
   "language": "python",
   "name": "python3"
  },
  "language_info": {
   "codemirror_mode": {
    "name": "ipython",
    "version": 3
   },
   "file_extension": ".py",
   "mimetype": "text/x-python",
   "name": "python",
   "nbconvert_exporter": "python",
   "pygments_lexer": "ipython3",
   "version": "3.6.6"
  }
 },
 "nbformat": 4,
 "nbformat_minor": 2
}
