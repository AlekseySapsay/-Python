{
 "cells": [
  {
   "cell_type": "markdown",
   "metadata": {},
   "source": [
    "На вход подаётся строка из 3 натуральных чисел.\n",
    "\n",
    "Найдите сумму чисел.\n",
    "\n",
    "Sample Input:\n",
    "\n",
    "5 0 3\n",
    "Sample Output:\n",
    "\n",
    "8"
   ]
  },
  {
   "cell_type": "code",
   "execution_count": null,
   "metadata": {
    "collapsed": true
   },
   "outputs": [],
   "source": [
    "summ=0\n",
    "s=input().split()\n",
    "for i in range(len(s)):\n",
    "    summ+=int(s[i])\n",
    "print(summ)\n"
   ]
  },
  {
   "cell_type": "markdown",
   "metadata": {},
   "source": [
    "Считайте 2 строки. Каждая строка содержит по 3 натуральных числа.\n",
    "\n",
    "Найдите сумму чисел в каждой строке и выведите на печать одной строкой.\n",
    "\n",
    "В качестве разделителя между двумя получившимися числами используйте символ \"#\"\n",
    "\n",
    "Sample Input:\n",
    "\n",
    "2 3 2\n",
    "8 1 9\n",
    "Sample Output:\n",
    "\n",
    "7#18"
   ]
  },
  {
   "cell_type": "code",
   "execution_count": null,
   "metadata": {
    "collapsed": true
   },
   "outputs": [],
   "source": [
    "# put your python code here\n",
    "S1=input().split()\n",
    "S2=input().split()\n",
    "\n",
    "summ1=0\n",
    "summ2=0\n",
    "for _ in range(len(S1)):\n",
    "    summ1+=int(S1[_])\n",
    "for _ in range(len(S2)):\n",
    "    summ2+=int(S2[_])\n",
    "print(str(summ1)+\"#\"+str(summ2))"
   ]
  },
  {
   "cell_type": "markdown",
   "metadata": {
    "collapsed": true
   },
   "source": [
    "На вход подаётся 1 строка, слова в которой разделены символом \"&\".\n",
    "\n",
    "Необходимо вывести все слова из строки (без дубликатов) с пробелом в качестве разделителя.\n",
    "\n",
    "Sample Input:\n",
    "\n",
    "one&One&one\n",
    "Sample Output:\n",
    "\n",
    "One one"
   ]
  },
  {
   "cell_type": "code",
   "execution_count": null,
   "metadata": {
    "collapsed": true
   },
   "outputs": [],
   "source": [
    "S=input().split(\"&\")\n",
    "S=set(S)\n",
    "print(*S)\n"
   ]
  },
  {
   "cell_type": "markdown",
   "metadata": {},
   "source": [
    "2.3 Массивы\n",
    "На вход подаётся строка, слова в которой разделены между собой пробелами.\n",
    "\n",
    "Напечатайте 2, 3 и предпоследнее слова из строки (через пробел)\n",
    "\n",
    "Sample Input 1:\n",
    "\n",
    "Some Short String\n",
    "Sample Output 1:\n",
    "\n",
    "Short String Short\n",
    "Sample Input 2:\n",
    "\n",
    "And this is some long line, which consists of a set of words\n",
    "Sample Output 2:\n",
    "\n",
    "this is of"
   ]
  },
  {
   "cell_type": "code",
   "execution_count": null,
   "metadata": {
    "collapsed": true
   },
   "outputs": [],
   "source": [
    "S=input().split()\n",
    "slise1=S[1:3]\n",
    "slise1=(\" \".join(slise1))\n",
    "slise2=S[-2:-1]\n",
    "slise2=(\" \".join(slise2))\n",
    "slise3=slise1+\" \"+(slise2)\n",
    "print(slise3)"
   ]
  },
  {
   "cell_type": "markdown",
   "metadata": {},
   "source": [
    "На вход подаётся 1 строка, слова в которой разделены пробелами.\n",
    "\n",
    "Напечатайте слова из этой строки в обратном порядке, используя в качестве разделителя \"-$-\"\n",
    "\n",
    "Sample Input:\n",
    "\n",
    "one two three four five six\n",
    "Sample Output:\n",
    "\n",
    "six-$-five-$-four-$-three-$-two-$-one"
   ]
  },
  {
   "cell_type": "code",
   "execution_count": null,
   "metadata": {
    "collapsed": true
   },
   "outputs": [],
   "source": [
    "# put your python code here\n",
    "S=input().split()\n",
    "S=S[::-1]\n",
    "S=(\"-$-\".join(S))\n",
    "print(S)\n"
   ]
  },
  {
   "cell_type": "markdown",
   "metadata": {
    "collapsed": true
   },
   "source": [
    "На вход подаётся 1 строка, слова в которой разделены пробелами.\n",
    "\n",
    "Напечатайте через пробел число слов в строке и число слов \"one\" в строке.\n",
    "\n",
    "\n",
    "\n",
    "Примечание1. Учитывайте вхождение только слова полностью в нижнем регистре - \"one\". \"One\", \"ONE\" и т.п. не учитывайте.\n",
    "\n",
    "Примечание2. Число элементов списка L можно получить с помощью конструкции len(L)\n",
    "\n",
    "Sample Input 1:\n",
    "\n",
    "One string short and one long\n",
    "Sample Output 1:\n",
    "\n",
    "6 1\n",
    "Sample Input 2:\n",
    "\n",
    "one cat and one dog are friends\n",
    "Sample Output 2:\n",
    "\n",
    "7 2"
   ]
  },
  {
   "cell_type": "code",
   "execution_count": null,
   "metadata": {
    "collapsed": true
   },
   "outputs": [],
   "source": [
    "# put your python code here\n",
    "S=input().split()\n",
    "counter=S.count(\"one\")\n",
    "lenth=len(S)\n",
    "print(lenth,counter)\n"
   ]
  },
  {
   "cell_type": "markdown",
   "metadata": {
    "collapsed": true
   },
   "source": [
    "ункция sum() принимает на вход массив(любого типа) чисел и находит их сумму:\n",
    "\n",
    "Image: https://ucarecdn.com/53e9cdd2-ea5f-455d-9966-cf3a03b0ce22/Считайте строку, содержащую произвольное количество целых чисел и найдите их сумму.\n",
    "\n",
    "Sample Input 1:\n",
    "\n",
    "1 2\n",
    "Sample Output 1:\n",
    "\n",
    "3\n",
    "Sample Input 2:\n",
    "\n",
    "1 2 3\n",
    "Sample Output 2:\n",
    "\n",
    "6\n",
    "Sample Input 3:\n",
    "\n",
    "99 234 34 1 0 -5 55 666 42\n",
    "Sample Output 3:\n",
    "\n",
    "1126"
   ]
  },
  {
   "cell_type": "code",
   "execution_count": null,
   "metadata": {
    "collapsed": true
   },
   "outputs": [],
   "source": [
    "# put your python code here\n",
    "S=input().split()\n",
    "S=map(int,S)\n",
    "Su=sum(S)\n",
    "print(Su)"
   ]
  }
 ],
 "metadata": {
  "kernelspec": {
   "display_name": "Python 3",
   "language": "python",
   "name": "python3"
  },
  "language_info": {
   "codemirror_mode": {
    "name": "ipython",
    "version": 3
   },
   "file_extension": ".py",
   "mimetype": "text/x-python",
   "name": "python",
   "nbconvert_exporter": "python",
   "pygments_lexer": "ipython3",
   "version": "3.6.6"
  }
 },
 "nbformat": 4,
 "nbformat_minor": 2
}
