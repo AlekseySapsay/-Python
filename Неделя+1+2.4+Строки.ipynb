{
 "cells": [
  {
   "cell_type": "markdown",
   "metadata": {},
   "source": [
    "2.4 Строки\n",
    "3 из 8 шагов пройдено\n",
    "1 из 5 баллов  получен\n",
    "Считайте текст с клавиатуры (из стандартного потока ввода) и выведите его на печать."
   ]
  },
  {
   "cell_type": "code",
   "execution_count": null,
   "metadata": {
    "collapsed": true
   },
   "outputs": [],
   "source": [
    "# put your python code here\n",
    "s=input()\n",
    "print(s)\n"
   ]
  },
  {
   "cell_type": "markdown",
   "metadata": {},
   "source": [
    "Считайте 2 строки и выведите их на печать, разделив символом $.\n",
    "\n",
    "Sample Input:\n",
    "\n",
    "Uno\n",
    "Dos\n",
    "Sample Output:\n",
    "\n",
    "Uno$Dos"
   ]
  },
  {
   "cell_type": "code",
   "execution_count": null,
   "metadata": {
    "collapsed": true
   },
   "outputs": [],
   "source": [
    "# первый способ решения\n",
    "s1=input()\n",
    "s2=input()\n",
    "print(s1+\"$\"+s2)\n"
   ]
  },
  {
   "cell_type": "code",
   "execution_count": null,
   "metadata": {
    "collapsed": true
   },
   "outputs": [],
   "source": [
    "# второй способ решения\n",
    "s1=input()\n",
    "s2=input()\n",
    "print(s1,s2,sep=\"$\")"
   ]
  },
  {
   "cell_type": "markdown",
   "metadata": {},
   "source": [
    "Примечание. В этой задаче не нужно ничего считывать и никуда выводить. Вся работа производится с переменными.\n",
    "\n",
    "Переменная B1 - строка.\n",
    "\n",
    "Запишите в переменную B2 строку, состоящую только из символов строки B1 с нечётными индексами\n",
    "\n",
    "\n",
    "Примечание. Нумерация элементов в списке и символов в строке начинается с 0!"
   ]
  },
  {
   "cell_type": "code",
   "execution_count": null,
   "metadata": {
    "collapsed": true
   },
   "outputs": [],
   "source": [
    "B2 = B1[1::2]\n"
   ]
  },
  {
   "cell_type": "markdown",
   "metadata": {},
   "source": [
    "Примечание. В этой задаче не нужно ничего считывать и никуда выводить. Вся работа производится с переменными.\n",
    "\n",
    "Переменная C1 - строка.\n",
    "\n",
    "Запишите в переменную C2 предпоследний символ переменной C1\n",
    "\n",
    "Примечание. Нумерация элементов в списке и символов в строке начинается с 0!"
   ]
  },
  {
   "cell_type": "code",
   "execution_count": null,
   "metadata": {
    "collapsed": true
   },
   "outputs": [],
   "source": [
    "C2 = C1[-2]\n"
   ]
  }
 ],
 "metadata": {
  "kernelspec": {
   "display_name": "Python 3",
   "language": "python",
   "name": "python3"
  },
  "language_info": {
   "codemirror_mode": {
    "name": "ipython",
    "version": 3
   },
   "file_extension": ".py",
   "mimetype": "text/x-python",
   "name": "python",
   "nbconvert_exporter": "python",
   "pygments_lexer": "ipython3",
   "version": "3.6.6"
  }
 },
 "nbformat": 4,
 "nbformat_minor": 2
}
