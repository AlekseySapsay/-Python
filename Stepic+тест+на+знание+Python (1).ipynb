{
 "cells": [
  {
   "cell_type": "code",
   "execution_count": 20,
   "metadata": {},
   "outputs": [
    {
     "name": "stdout",
     "output_type": "stream",
     "text": [
      "Cinco\n"
     ]
    }
   ],
   "source": [
    "import random\n",
    "s = '{} is {} in Spain'\n",
    "L = ['Cero', 'Uno', 'Dos', 'Tres', 'Cuatro', 'Cinco', 'Seis', 'Siete', 'Ocho', 'Nueve']\n",
    "#1\n",
    "#print(L)\n",
    "n = random.randint(0, 9)\n",
    "#2\n",
    "print(x)\n",
    "x = L[n]\n",
    "#3\n",
    "#print(L)\n",
    "s = s.format(x, n)\n",
    "#4\n",
    "#print(L)"
   ]
  },
  {
   "cell_type": "markdown",
   "metadata": {
    "collapsed": true
   },
   "source": [
    "Используя формулу Герона, найдите площадь треугольника.\n",
    "\n",
    "S=p(p−a)(p−b)(p−c)−−−−−−−−−−−−−−−−−√, \n",
    "\n",
    "где p — полупериметр треугольника: p=a+b+c2 \n",
    "\n",
    "\n",
    "\n",
    "Ответ сохраните в переменную S.\n",
    "\n",
    "Примечание. В этой задаче не нужно ничего считывать и ничего выводить на печать. "
   ]
  },
  {
   "cell_type": "code",
   "execution_count": null,
   "metadata": {
    "collapsed": true
   },
   "outputs": [],
   "source": [
    "#Your code. a, b, c\n",
    "p=(a+b+c)*0.5\n",
    "S =(p*(p-a)*(p-b)*(p-c))**0.5"
   ]
  },
  {
   "cell_type": "markdown",
   "metadata": {},
   "source": [
    "Функции и логические выражения\n",
    "Напишите функцию sum2(a,b), которая возвращает сумму 2 чисел.\n",
    "\n",
    "Если один из аргументов не является числом (целым или вещественным), функция должна вернуть строку:\n",
    "\n",
    "\"1st argument is not a number\" (если только 1 аргумент не число)\n",
    "\"2nd argument is not a number\" (если только 2 аргумент не число) \n",
    "\"all arguments are not a numbers\"  (если оба аргумента не числа) \n",
    "\n",
    "\n",
    "Примечание. В этой задаче не нужно ничего считывать и ничего выводить на печать. Только реализовать функцию.\n",
    "\n",
    "Темы: def, функции, return, математические операции, type, if, else"
   ]
  },
  {
   "cell_type": "code",
   "execution_count": 3,
   "metadata": {},
   "outputs": [],
   "source": [
    "#your code\n",
    "\n",
    "def sum2(a,b):\n",
    "    if type(a)==str and type(b)!=str:\n",
    "        return \"1st argument is not a number\"\n",
    "    elif type(a)!=str and type(b)==str:\n",
    "        return \"2nd argument is not a number\"\n",
    "    elif type(a)==str and type(b)==str:\n",
    "        return \"all arguments are not a numbers\"\n",
    "    elif type(a)!=str and type(b)!=str:\n",
    "        return (a+b)"
   ]
  },
  {
   "cell_type": "code",
   "execution_count": 28,
   "metadata": {},
   "outputs": [
    {
     "name": "stdout",
     "output_type": "stream",
     "text": [
      "<class 'int'>\n"
     ]
    }
   ],
   "source": [
    "a=10\n",
    "b=12\n",
    "print(type(a))\n",
    "\n",
    "if type(a)==str and type(b)!=str:\n",
    "    print(\"We are the champiniions\")"
   ]
  },
  {
   "cell_type": "markdown",
   "metadata": {},
   "source": [
    "Функции и логические выражения\n",
    "Напишите функцию sum2(a,b), которая возвращает сумму 2 чисел.\n",
    "\n",
    "Если один из аргументов не является числом (целым или вещественным), функция должна вернуть строку:\n",
    "\n",
    "\"1st argument is not a number\" (если только 1 аргумент не число)\n",
    "\"2nd argument is not a number\" (если только 2 аргумент не число) \n",
    "\"all arguments are not a numbers\"  (если оба аргумента не числа) \n",
    "\n",
    "\n",
    "Примечание. В этой задаче не нужно ничего считывать и ничего выводить на печать. Только реализовать функцию.\n",
    "\n",
    "Темы: def, функции, return, математические операции, type, if, else"
   ]
  },
  {
   "cell_type": "code",
   "execution_count": null,
   "metadata": {
    "collapsed": true
   },
   "outputs": [],
   "source": [
    "#your code\n",
    "\n",
    "def sum2(a,b):\n",
    "    if type(a)==str and type(b)!=str:\n",
    "        return \"1st argument is not a number\"\n",
    "    elif type(a)!=str and type(b)==str:\n",
    "        return \"2nd argument is not a number\"\n",
    "    elif type(a)==str and type(b)==str:\n",
    "        return \"all arguments are not a numbers\"\n",
    "    elif type(a)!=str and type(b)!=str:\n",
    "        return (a+b)"
   ]
  },
  {
   "cell_type": "markdown",
   "metadata": {},
   "source": [
    "Циклы\n",
    "Список L содержит целые числа.\n",
    "\n",
    "Запишите в переменную index индекс элемента, разность между которым и следующим равна 1 (не важно какой из двух элементов больше).\n",
    "\n",
    "Гарантируется, что в списке есть ровно 1 такая пара."
   ]
  },
  {
   "cell_type": "code",
   "execution_count": 30,
   "metadata": {},
   "outputs": [
    {
     "name": "stdout",
     "output_type": "stream",
     "text": [
      "1 4 67 4 2 65 66\n"
     ]
    }
   ],
   "source": [
    "for i in range(len(L)-1):\n",
    "    if (abs(L[i]-L[i+1]))==1:\n",
    "        index=i"
   ]
  },
  {
   "cell_type": "markdown",
   "metadata": {},
   "source": [
    "Циклы (усложнённая)\n",
    "Напишите такую функцию counter(T):\n",
    "\n",
    "принимающую на вход кортеж, состоящий из строк латинского алфавита, например, (\"ABC\", \"abc\")\n",
    "приводящую строки к единому (верхнему, либо нижнему) регистру\n",
    "определяющую число уникальных символов латинского алфавита для каждой строки (строка \"Aaa\" содержит всего 1 уникальный символ)\n",
    "возвращающую длину строки с максимальным числом уникальных символов (если таких строк несколько, то самой большой из них)\n",
    "\n",
    "\n",
    "Посмотрите на примеры кортежей и, соответствующие им решения.\n",
    "\n",
    "\n",
    "\n",
    "Примечание. В этой задаче не нужно ничего считывать и ничего выводить на печать. Только реализовать функцию.\n",
    "\n",
    "Темы: for, len, lower, upper"
   ]
  },
  {
   "cell_type": "code",
   "execution_count": 2,
   "metadata": {},
   "outputs": [
    {
     "name": "stdout",
     "output_type": "stream",
     "text": [
      "('AAAaaa', 'ab')\n",
      "2\n",
      "('aaaaaa', 'ab')\n"
     ]
    }
   ],
   "source": [
    "def counter(T):\n",
    "    T=str(T)\n",
    "    T=T.lower()\n",
    "    \n",
    "    for i in range(len(T)-1):\n",
    "        for k in range(len(T)-1):\n",
    "            if T[i]!=T[i+1]:\n",
    "                k=k\n",
    "            else:\n",
    "                count=1\n",
    "    count+=1\n",
    "    return (count)\n",
    "    #print(T)\n",
    "    \n",
    "#counter(input())\n"
   ]
  },
  {
   "cell_type": "code",
   "execution_count": null,
   "metadata": {
    "collapsed": true
   },
   "outputs": [],
   "source": []
  },
  {
   "cell_type": "code",
   "execution_count": null,
   "metadata": {
    "collapsed": true
   },
   "outputs": [],
   "source": []
  },
  {
   "cell_type": "code",
   "execution_count": null,
   "metadata": {
    "collapsed": true
   },
   "outputs": [],
   "source": []
  },
  {
   "cell_type": "code",
   "execution_count": null,
   "metadata": {
    "collapsed": true
   },
   "outputs": [],
   "source": []
  }
 ],
 "metadata": {
  "kernelspec": {
   "display_name": "Python 3",
   "language": "python",
   "name": "python3"
  },
  "language_info": {
   "codemirror_mode": {
    "name": "ipython",
    "version": 3
   },
   "file_extension": ".py",
   "mimetype": "text/x-python",
   "name": "python",
   "nbconvert_exporter": "python",
   "pygments_lexer": "ipython3",
   "version": "3.6.6"
  }
 },
 "nbformat": 4,
 "nbformat_minor": 2
}
